{
 "cells": [
  {
   "cell_type": "markdown",
   "metadata": {},
   "source": [
    "# Functions"
   ]
  },
  {
   "cell_type": "markdown",
   "metadata": {},
   "source": [
    "On this lab we will put to practice some of the concepts we have learned on this past few days.\n",
    "\n",
    "`NOTE: On this lab you should try to write all the functions yourself using only the most basic of python syntax and without functions such as len, count, sum, max, min, in, etc. Give it a try. 🧑🏻‍💻👩🏻‍💻`\n",
    "\n",
    "The cell after each exercise contains a few tests to check if your function works as expected."
   ]
  },
  {
   "cell_type": "code",
   "execution_count": 21,
   "metadata": {},
   "outputs": [],
   "source": [
    "from mod.testing import *\n",
    "import unittest"
   ]
  },
  {
   "cell_type": "markdown",
   "metadata": {},
   "source": [
    "## 1. Write a function that returns the greater of two numbers"
   ]
  },
  {
   "cell_type": "code",
   "execution_count": 22,
   "metadata": {},
   "outputs": [],
   "source": [
    "def greater(number_a: int = 10,number_b: int = 15) -> int:\n",
    "#your code here\n",
    "    \"\"\"\n",
    "    This program checks which number is greater\n",
    "    \n",
    "    Args: \n",
    "        number_a (int): The first number which was entered by the user, by default the value is 10 \n",
    "        number_b  (int): The second number which was entered by the user, by default the value is 15\n",
    "        \n",
    "    Returns:\n",
    "        The program returns a int, the greater one\n",
    "        \n",
    "    Example:\n",
    "        greater(100,200)\n",
    "        # Output 200\n",
    "    \"\"\"\n",
    "    if number_a > number_b:\n",
    "        return number_a\n",
    "    else:\n",
    "        return number_b"
   ]
  },
  {
   "cell_type": "code",
   "execution_count": 23,
   "metadata": {},
   "outputs": [
    {
     "data": {
      "text/plain": [
       "200"
      ]
     },
     "execution_count": 23,
     "metadata": {},
     "output_type": "execute_result"
    }
   ],
   "source": [
    "#your code here\n",
    "\n",
    "greater(100,200)"
   ]
  },
  {
   "cell_type": "code",
   "execution_count": 24,
   "metadata": {},
   "outputs": [
    {
     "name": "stderr",
     "output_type": "stream",
     "text": [
      "....................................................................................................\n",
      "----------------------------------------------------------------------\n",
      "Ran 100 tests in 0.038s\n",
      "\n",
      "OK\n"
     ]
    }
   ],
   "source": [
    "# This will test your function \n",
    "test_greater(greater)"
   ]
  },
  {
   "cell_type": "markdown",
   "metadata": {},
   "source": [
    "## 2. Now write a function that returns the largest element on a list"
   ]
  },
  {
   "cell_type": "code",
   "execution_count": 25,
   "metadata": {},
   "outputs": [],
   "source": [
    "\n",
    "def greatest(array:list[int]) -> int:\n",
    "#your code here\n",
    "# Original source: https://stackoverflow.com/questions/24235268/max-value-of-list-without-max-method\n",
    "    \"\"\"\n",
    "    This function returns largest element in a list\n",
    "    \n",
    "    Args:\n",
    "        array (list of int): Is the list of numbers that used as an input to know the greatest element within\n",
    "        \n",
    "    Returns:\n",
    "        The program returns a int, the greater one\n",
    "    Example:\n",
    "        greatest([1,2,3,55,7,55,3])\n",
    "        # output 55\n",
    "    \"\"\"\n",
    "    \n",
    "    largest_num = array[0]\n",
    "    for x in array:\n",
    "        if x > largest_num:\n",
    "            largest_num = x\n",
    "    return largest_num\n",
    "    \n",
    "    "
   ]
  },
  {
   "cell_type": "code",
   "execution_count": 26,
   "metadata": {},
   "outputs": [
    {
     "name": "stderr",
     "output_type": "stream",
     "text": [
      "....................................................................................................\n",
      "----------------------------------------------------------------------\n",
      "Ran 100 tests in 0.045s\n",
      "\n",
      "OK\n"
     ]
    }
   ],
   "source": [
    "# This will test your function \n",
    "test_greatest(greatest)"
   ]
  },
  {
   "cell_type": "markdown",
   "metadata": {},
   "source": [
    "## 3. Write a function that sums all the elements on a list"
   ]
  },
  {
   "cell_type": "code",
   "execution_count": 27,
   "metadata": {},
   "outputs": [],
   "source": [
    "def sum_all(lst:list[int])->int:\n",
    "#your code here\n",
    "    \"\"\"\n",
    "    This function returns the sum of all elements in a list\n",
    "    \n",
    "    Args:\n",
    "        lst (list of int): The list of numbers provided as input, whose total sum will be calculated\n",
    "        \n",
    "    Returns:\n",
    "        int: The sum of all elements in the list. If the list is empty, returns 0.\n",
    "        \n",
    "    Example:\n",
    "        sum_all([1, 2, 3, 4, 5])\n",
    "        # output 15\n",
    "    \"\"\"\n",
    "    \n",
    "    sum_up = 0\n",
    "    for x in lst:\n",
    "        sum_up += x\n",
    "    return sum_up\n",
    "   "
   ]
  },
  {
   "cell_type": "code",
   "execution_count": 28,
   "metadata": {
    "scrolled": true
   },
   "outputs": [
    {
     "name": "stderr",
     "output_type": "stream",
     "text": [
      "....................................................................................................\n",
      "----------------------------------------------------------------------\n",
      "Ran 100 tests in 0.048s\n",
      "\n",
      "OK\n"
     ]
    }
   ],
   "source": [
    "# This will test your function \n",
    "test_sum(sum_all)"
   ]
  },
  {
   "cell_type": "markdown",
   "metadata": {},
   "source": [
    "## 4. Write another function that multiplies all the elements on a list"
   ]
  },
  {
   "cell_type": "code",
   "execution_count": 29,
   "metadata": {},
   "outputs": [],
   "source": [
    "def mult_all(lst: list[int])->int:\n",
    "#your code here\n",
    "    \"\"\"\n",
    "    This function returns the product of all elements in a list.\n",
    "    \n",
    "    Args:\n",
    "        lst (list of int): The list of numbers provided as input, whose product will be calculated.\n",
    "        \n",
    "    Returns:\n",
    "        int: The product of all elements in the list. \n",
    "             If the list is empty, returns 0.\n",
    "        \n",
    "    Example:\n",
    "        mult_all([1,10,2,3])\n",
    "        # output 60\n",
    "    \"\"\"\n",
    "    result= 1\n",
    "    if len(lst) <= 0:\n",
    "        return 0\n",
    "    else:\n",
    "        for x in lst:\n",
    "            result *= x\n",
    "        \n",
    "    return result\n"
   ]
  },
  {
   "cell_type": "code",
   "execution_count": 30,
   "metadata": {
    "scrolled": true
   },
   "outputs": [
    {
     "name": "stderr",
     "output_type": "stream",
     "text": [
      "....................................................................................................\n",
      "----------------------------------------------------------------------\n",
      "Ran 100 tests in 0.037s\n",
      "\n",
      "OK\n"
     ]
    }
   ],
   "source": [
    "# This will test your function \n",
    "test_mult(mult_all)"
   ]
  },
  {
   "cell_type": "markdown",
   "metadata": {},
   "source": [
    "## 5. Now combine those two ideas and write a function that receives a list and either \"+\" or \"*\" and outputs acordingly"
   ]
  },
  {
   "cell_type": "code",
   "execution_count": 31,
   "metadata": {},
   "outputs": [],
   "source": [
    "def oper_all(arr, oper = \"*\"):\n",
    "#your code here\n",
    "\n",
    "    \"\"\"\n",
    "    This function applies an operation (multiplication or addition) \n",
    "    to all elements in a list.\n",
    "    \n",
    "    Args:\n",
    "        arr (list of int): The list of numbers provided as input.\n",
    "        oper (str, optional): The operation to apply.\n",
    "            \n",
    "            Use \"*\" for multiplication (default),\n",
    "            or \"+\" for addition.\n",
    "    Returns:\n",
    "        int: \n",
    "            - The product of all elements if oper == \"*\".\n",
    "            - The sum of all elements if oper == \"+\".\n",
    "            - Returns 0 if the list is empty.\n",
    "        \n",
    "    Example:\n",
    "        oper_all([1, 2, 3, 4], \"*\")\n",
    "        # output 24\n",
    "        \n",
    "        oper_all([1, 2, 3, 4], \"+\")\n",
    "        # output 10\n",
    "    \"\"\"    \n",
    "    elements = 0   \n",
    "    result = 1\n",
    "    for x in arr:\n",
    "        elements +=1\n",
    "    \n",
    "    if elements <=0:\n",
    "        return 0\n",
    "    else:\n",
    "        if oper == '+':\n",
    "            result = 0\n",
    "            for num in arr:\n",
    "                result += num\n",
    "        elif oper == \"*\":\n",
    "            for x in arr:\n",
    "                result *= x\n",
    "        return result"
   ]
  },
  {
   "cell_type": "code",
   "execution_count": 32,
   "metadata": {},
   "outputs": [
    {
     "name": "stderr",
     "output_type": "stream",
     "text": [
      "....................................................................................................\n",
      "----------------------------------------------------------------------\n",
      "Ran 100 tests in 0.036s\n",
      "\n",
      "OK\n"
     ]
    }
   ],
   "source": [
    "# This will test your function \n",
    "test_operations(oper_all)"
   ]
  },
  {
   "cell_type": "markdown",
   "metadata": {},
   "source": [
    "## 6. Write a function that returns the factorial of a number."
   ]
  },
  {
   "cell_type": "code",
   "execution_count": 33,
   "metadata": {},
   "outputs": [],
   "source": [
    "#factorial formula\n",
    "#n! = n * ( n - 1 ) *...*1\n",
    "\n",
    "# This code defines a function called \"factorial\" which takes an input \"n\". The function uses a for loop to iterate through the range of numbers \n",
    "# from 1 to n+1. For each number in that range, it multiplies the current value of x by the number in the range. At the end of the loop, \n",
    "# the function returns the final value of x, which will be the factorial of the input number \"n\".\n",
    "\n",
    "# The Factorial of a positive integer n is the product of all positive integers less than or equal to n. \n",
    "# For example, the factorial of 6 (written \"6!\") is 6 * 5 * 4 * 3 * 2 * 1 = 720.\n",
    "\n",
    "# So this function takes an input of any positive integer, and returns the factorial of that number."
   ]
  },
  {
   "cell_type": "code",
   "execution_count": 34,
   "metadata": {},
   "outputs": [],
   "source": [
    "def factorial(n = 7)->int:\n",
    "#your code here\n",
    "    \"\"\"\n",
    "    This function calculates the factorial of a number.\n",
    "    For example if that number is 5 (5!) = 5 * 4 * 3 * 2 * 1 = 120.\n",
    "\n",
    "    Args:\n",
    "        n (int, optional): The number needed to calculate the factorial, by default is 7\n",
    "\n",
    "    Returns:\n",
    "        int: \n",
    "            - if the number is negative, returns 0.\n",
    "            - if the number is 0, return 1.\n",
    "            - Other case, returns the factorial.\n",
    "\n",
    "    Example:\n",
    "        factorial(5)\n",
    "        # output: 120\n",
    "\n",
    "        factorial(0)\n",
    "        # output: 1\n",
    "    \"\"\"\n",
    "    \n",
    "# Original source: https://www.programiz.com/python-programming/examples/factorial\n",
    "    factorial = 1\n",
    "    if n < 0:\n",
    "        return 0\n",
    "    elif n == 0:\n",
    "        return 1\n",
    "    else:\n",
    "        for i in range(1,n + 1):\n",
    "            factorial = factorial*i\n",
    "        return factorial\n",
    "\n"
   ]
  },
  {
   "cell_type": "code",
   "execution_count": 35,
   "metadata": {},
   "outputs": [
    {
     "name": "stderr",
     "output_type": "stream",
     "text": [
      "....................................................................................................\n",
      "----------------------------------------------------------------------\n",
      "Ran 100 tests in 0.036s\n",
      "\n",
      "OK\n"
     ]
    }
   ],
   "source": [
    "# This will test your function \n",
    "test_factorial(factorial)"
   ]
  },
  {
   "cell_type": "markdown",
   "metadata": {},
   "source": [
    "## 7. Write a function that takes a list and returns a list of the unique values.\n",
    "\n",
    "`NOTE: You cannot use set. 🤔`"
   ]
  },
  {
   "cell_type": "code",
   "execution_count": 36,
   "metadata": {},
   "outputs": [],
   "source": [
    "def unique(lst_un: list[int])->list[int]:\n",
    "#your code here\n",
    "    \"\"\"\n",
    "    Remove duplicates from a list while preserving the original order.\n",
    "    \n",
    "    Iterates through the input list and adds each element to a new list\n",
    "    only if it has not been added before.\n",
    "\n",
    "    Args:\n",
    "        lst_un (a list of int): The input list that may contain duplicate values.\n",
    "\n",
    "    Returns:\n",
    "        A list of ints: A new list containing only unique elements from lst_un \n",
    "\n",
    "    Example:\n",
    "        unique([10,20,20,30,40])\n",
    "        # output: [10, 20, 30, 40]\n",
    "    \"\"\"\n",
    "    \n",
    "    lista = []\n",
    "    for x in lst_un:\n",
    "        if x not in lista:\n",
    "            lista.append(x)     \n",
    "    return lista\n",
    "        \n",
    "        "
   ]
  },
  {
   "cell_type": "code",
   "execution_count": 37,
   "metadata": {},
   "outputs": [
    {
     "name": "stderr",
     "output_type": "stream",
     "text": [
      "....................................................................................................\n",
      "----------------------------------------------------------------------\n",
      "Ran 100 tests in 0.063s\n",
      "\n",
      "OK\n"
     ]
    }
   ],
   "source": [
    "# This will test your function \n",
    "test_unique(unique)"
   ]
  },
  {
   "cell_type": "markdown",
   "metadata": {},
   "source": [
    "## 8. Write a function that returns the mode of a list, i.e.: the element that appears the most times.\n",
    "`NOTE: You should not use count... 🧐`"
   ]
  },
  {
   "cell_type": "code",
   "execution_count": 38,
   "metadata": {},
   "outputs": [],
   "source": [
    "def mode_counter(arr: list[int])->int:\n",
    "#your code here\n",
    "    \"\"\"\n",
    "    This function finds the mode or the most frequent element of a list.\n",
    "\n",
    "    Uses Python's statistics.mode to return the element that appears the most on the list \n",
    "    Args:\n",
    "        arr (): The list of integers to analyze.\n",
    "\n",
    "    Returns:\n",
    "        int: The most frequent element in the list.\n",
    "             If the list is empty, it returns the list itself ([]).\n",
    "\n",
    "    Example:\n",
    "        mode_counter([253,1,1,3,67,253,253,67,253])\n",
    "        # output: 253\n",
    "    \n",
    "    \"\"\"\n",
    "    \n",
    "    #Original source: https://datascienceparichay.com/article/mode-of-list-in-python/\n",
    "    counts = {}\n",
    "\n",
    "    for element in arr:\n",
    "        if element in counts:\n",
    "            counts[element] += 1\n",
    "        else:\n",
    "            counts[element] = 1\n",
    "    max_counter = 0\n",
    "    mode = 0\n",
    "    for key,value in counts.items():\n",
    "        if value > max_counter: \n",
    "            max_counter = value\n",
    "            mode = key\n",
    "    return mode"
   ]
  },
  {
   "cell_type": "code",
   "execution_count": 39,
   "metadata": {},
   "outputs": [
    {
     "name": "stderr",
     "output_type": "stream",
     "text": [
      "....................................................................................................\n",
      "----------------------------------------------------------------------\n",
      "Ran 100 tests in 0.042s\n",
      "\n",
      "OK\n"
     ]
    }
   ],
   "source": [
    "# This will test your function \n",
    "test_mode(mode_counter)"
   ]
  },
  {
   "cell_type": "markdown",
   "metadata": {},
   "source": [
    "## 9. Write a function that calculates the standard deviation of a list.\n",
    "`NOTE: Do not use any libraries or already built functions. 😉`"
   ]
  },
  {
   "cell_type": "code",
   "execution_count": 40,
   "metadata": {},
   "outputs": [],
   "source": [
    "def st_dev(list_sd):\n",
    "#your code here\n",
    "\n",
    "    # source https://www.khanacademy.org/math/statistics-probability/summarizing-quantitative-data/variance-standard-deviation-sample/a/population-and-sample-standard-deviation-review\n",
    "    \"\"\"\n",
    "    Calculates the sample standard deviation of a list of numbers.\n",
    "    \n",
    "    Args:\n",
    "        list_sd (list of numbers): The dataset to calculate the standard deviation for.\n",
    "        \n",
    "    Returns:\n",
    "        float: The sample standard deviation.\n",
    "        \n",
    "    Example:\n",
    "        st_dev([2, 4, 4, 4, 5, 5, 7, 9])\n",
    "        # output: 2.138089935299395\n",
    "    \"\"\"\n",
    "    \n",
    "    \n",
    "    elements = 0\n",
    "    sum_up = 0\n",
    "    squared_sum_up = 0\n",
    "\n",
    "    for x in list_sd:\n",
    "        sum_up += x\n",
    "        elements += 1\n",
    "        \n",
    "    mean = sum_up / elements\n",
    "\n",
    "    square_deviation = []\n",
    "    for x in list_sd:\n",
    "        dev = x -mean\n",
    "        dev2 = dev**2\n",
    "        square_deviation.append(dev2)\n",
    "\n",
    "    for y in square_deviation:\n",
    "        squared_sum_up +=y\n",
    "\n",
    "    final_std = (squared_sum_up / (elements-1))**0.5\n",
    "    return final_std\n"
   ]
  },
  {
   "cell_type": "code",
   "execution_count": 41,
   "metadata": {},
   "outputs": [
    {
     "name": "stderr",
     "output_type": "stream",
     "text": [
      "....................................................................................................\n",
      "----------------------------------------------------------------------\n",
      "Ran 100 tests in 0.035s\n",
      "\n",
      "OK\n"
     ]
    }
   ],
   "source": [
    "# This will test your function \n",
    "test_stdev(st_dev)"
   ]
  },
  {
   "cell_type": "markdown",
   "metadata": {},
   "source": [
    "## 10. Write a function to check if a string is a pangram, i.e.: if it contains all the letters of the alphabet at least once. Mind that the strings may contain characters that are not letters."
   ]
  },
  {
   "cell_type": "code",
   "execution_count": 42,
   "metadata": {},
   "outputs": [],
   "source": [
    "def pangram(string):\n",
    "#your code here\n",
    "    \"\"\"\n",
    "    The program checks if a given string is a pangram.\n",
    "    \n",
    "    A sentence that contains every letter of the English alphabet at least once. \n",
    "    This function ignores case (uppercase/lowercase).\n",
    "\n",
    "    Args:\n",
    "        string (str): The input string to check.\n",
    "\n",
    "    Returns:\n",
    "        bool: True if the string is a pangram, False otherwise.\n",
    "\n",
    "    Example:\n",
    "        pangram(\"The quick brown fox jumps over the lazy dog\")\n",
    "        # output: True\n",
    "    \"\"\"\n",
    "    \n",
    "    \n",
    "    # Original source: https://www.youtube.com/watch?v=Slg01QDV3VQ\n",
    "    alphabet = \"abcdefghijklmnopqrstuvwxyz\"\n",
    "    \n",
    "    for letter in alphabet:\n",
    "        if letter not in string.lower():\n",
    "            return False\n",
    "    return True\n",
    "\n"
   ]
  },
  {
   "cell_type": "code",
   "execution_count": 43,
   "metadata": {},
   "outputs": [
    {
     "name": "stderr",
     "output_type": "stream",
     "text": [
      "..............................\n",
      "----------------------------------------------------------------------\n",
      "Ran 30 tests in 0.017s\n",
      "\n",
      "OK\n"
     ]
    }
   ],
   "source": [
    "# This will test your function \n",
    "test_pangram(pangram)"
   ]
  },
  {
   "cell_type": "markdown",
   "metadata": {},
   "source": [
    "## 11. Write a function that receives a string of comma separated words and returns a string of comma separated words sorted alphabetically.\n",
    "\n",
    "`NOTE: You may use sorted but not split and definitely no join! 🤪`"
   ]
  },
  {
   "cell_type": "code",
   "execution_count": 44,
   "metadata": {},
   "outputs": [],
   "source": [
    "def sort_alpha(string):\n",
    "#your code here\n",
    "    \"\"\"\n",
    "    Sort a comma-separated string of words alphabetically.\n",
    "    The function takes a string of words separated by commas,splits them manually\n",
    "    \n",
    "    Args:\n",
    "        string (str): A string with comma-separated words.\n",
    "\n",
    "    Returns:\n",
    "        str: A new string with the same words sorted alphabetically,also separated by commas.\n",
    "\n",
    "    Example:\n",
    "    \n",
    "        sort_alpha(\"pear,apple,banana\")\n",
    "        # output: \"apple,banana,pear\"\n",
    "    \"\"\"\n",
    "    \n",
    "    delimiter = \",\"\n",
    "    separate_words = []\n",
    "    str_joined = \"\"\n",
    "    start = 0\n",
    "    \n",
    "    \n",
    "    for x in range(len(string)):\n",
    "        if string[x] == delimiter:\n",
    "            separate_words.append(string[start:x])\n",
    "            start = x +1\n",
    "    \n",
    "    separate_words.append(string[start:len(string)])\n",
    "    separate_words.sort()\n",
    "    \n",
    "    for word in separate_words:\n",
    "        str_joined += word + \",\"\n",
    "         \n",
    "    return str_joined[0:-1]"
   ]
  },
  {
   "cell_type": "code",
   "execution_count": 45,
   "metadata": {},
   "outputs": [
    {
     "name": "stderr",
     "output_type": "stream",
     "text": [
      "....................................................................................................\n",
      "----------------------------------------------------------------------\n",
      "Ran 100 tests in 0.039s\n",
      "\n",
      "OK\n"
     ]
    }
   ],
   "source": [
    "# This will test your function \n",
    "test_alpha(sort_alpha)"
   ]
  },
  {
   "cell_type": "markdown",
   "metadata": {},
   "source": [
    "## 12. Write a function to check if a given password is strong (at least 8 characters, at least one lower case, at least one upper case, at least one number and at least one special character). It should output True if strong and False if not."
   ]
  },
  {
   "cell_type": "code",
   "execution_count": 46,
   "metadata": {},
   "outputs": [],
   "source": [
    "def check_pass(password):\n",
    "#your code here \n",
    "    # Original source: https://www.youtube.com/watch?v=4S0tmy9iQNw\n",
    "    \"\"\"\n",
    "     Validate if a given password meets security requirements.The password is considered valid if it has:\n",
    "        - At least 8 characters \n",
    "        -At least one lowercase letter \n",
    "        -At least one uppercase letter\n",
    "        -At least one numeric digit \n",
    "        -At least one special symbol (from !\"#$%&'()*+,-./:;<=>?@[\\]^_`{|}~)\n",
    "        \n",
    "     Args:\n",
    "        password (str): The password string to validate.\n",
    "     \n",
    "     Returns:\n",
    "        bool: True if the password meets all the conditions,otherwise False.\n",
    "     \n",
    "\n",
    "     Example:\n",
    "        check_pass(\"Ironh@ck123\")\n",
    "        # output: True\n",
    "        \n",
    "        check_pass(\"1234\")\n",
    "        # output: False\n",
    "    \"\"\"\n",
    "    \n",
    "    if not len(password) >= 8:\n",
    "        return False\n",
    "    \n",
    "    one_lower = False\n",
    "    one_upper = False\n",
    "    one_number = False\n",
    "    one_special = False\n",
    "    symbols = \"!\\\"#$%&'()*+,-./:;<=>?@[\\]^_`{|}~\"\n",
    "    \n",
    "\n",
    "    for letter in password:\n",
    "        if letter.islower():\n",
    "            one_lower = True\n",
    "        if letter.isupper():\n",
    "            one_upper = True \n",
    "            \n",
    "        if letter in \"0123456789\":\n",
    "            one_number = True\n",
    "            \n",
    "        if letter in symbols:\n",
    "            one_special = True \n",
    "\n",
    "    if one_lower and one_upper and one_number and one_special:\n",
    "        return True\n",
    "    else:\n",
    "        return False\n"
   ]
  },
  {
   "cell_type": "code",
   "execution_count": 47,
   "metadata": {},
   "outputs": [
    {
     "name": "stderr",
     "output_type": "stream",
     "text": [
      "....................................................................................................\n",
      "----------------------------------------------------------------------\n",
      "Ran 100 tests in 0.036s\n",
      "\n",
      "OK\n"
     ]
    }
   ],
   "source": [
    "# This will test your function \n",
    "test_pass(check_pass)"
   ]
  }
 ],
 "metadata": {
  "kernelspec": {
   "display_name": "Python 3",
   "language": "python",
   "name": "python3"
  },
  "language_info": {
   "codemirror_mode": {
    "name": "ipython",
    "version": 3
   },
   "file_extension": ".py",
   "mimetype": "text/x-python",
   "name": "python",
   "nbconvert_exporter": "python",
   "pygments_lexer": "ipython3",
   "version": "3.11.9"
  }
 },
 "nbformat": 4,
 "nbformat_minor": 4
}
